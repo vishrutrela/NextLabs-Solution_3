{
 "cells": [
  {
   "cell_type": "markdown",
   "id": "b0669943",
   "metadata": {},
   "source": [
    "# Solution_1"
   ]
  },
  {
   "cell_type": "code",
   "execution_count": null,
   "id": "57d7c6e0",
   "metadata": {},
   "outputs": [],
   "source": [
    "import pandas as pd\n",
    "import re\n",
    "\n",
    "# Sample Data \n",
    "data = {\n",
    "    \"URLs\": [\n",
    "        \"https://play.google.com/store/search?q=messenger%20app&c=apps\",\n",
    "        \"https://play.google.com/store/search?q=torch&c=apps\",\n",
    "        \"https://play.google.com/store/search?q=personal%20loan%20app&c=apps\",\n",
    "        \"https://play.google.com/store/search?q=pnr%20status%20in%20india&c=apps\",\n",
    "    ],\n",
    "    \"count_of_search_results\": [50, 20, 10, 10],\n",
    "}\n",
    "\n",
    "\n",
    "df = pd.DataFrame(data)\n",
    "\n",
    "# Function to extract keywords using regex\n",
    "def extract_keywords(url):\n",
    "    match = re.search(r'q=([^&]*)', url)  \n",
    "    if match:\n",
    "        keywords = match.group(1)  \n",
    "        return keywords.replace('%20', ' ') \n",
    "    return None\n",
    "\n",
    "# Apply the function to extract keywords\n",
    "df[\"keywords\"] = df[\"URLs\"].apply(extract_keywords)\n",
    "\n",
    "# Display the result\n",
    "print(df)\n"
   ]
  }
 ],
 "metadata": {
  "kernelspec": {
   "display_name": "Python 3 (ipykernel)",
   "language": "python",
   "name": "python3"
  },
  "language_info": {
   "codemirror_mode": {
    "name": "ipython",
    "version": 3
   },
   "file_extension": ".py",
   "mimetype": "text/x-python",
   "name": "python",
   "nbconvert_exporter": "python",
   "pygments_lexer": "ipython3",
   "version": "3.9.13"
  }
 },
 "nbformat": 4,
 "nbformat_minor": 5
}
